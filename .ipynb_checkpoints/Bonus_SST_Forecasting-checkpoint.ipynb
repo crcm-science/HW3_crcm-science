{
 "cells": [
  {
   "cell_type": "markdown",
   "id": "79de32b0-342b-4e53-b275-a36aac984b22",
   "metadata": {
    "tags": []
   },
   "source": [
    "## Bonus - SST Forecasting Using SARIMA"
   ]
  },
  {
   "cell_type": "markdown",
   "id": "c70e8612-9812-498b-a013-bcc930c927f6",
   "metadata": {
    "tags": []
   },
   "source": [
    "In this bonus notebook, we demonstrate basic forecasting capabilities using CoralTemp SST data. This would potentially replace the forecasting method used in our previous analysis."
   ]
  },
  {
   "cell_type": "markdown",
   "id": "4f625907-2570-4a47-ab08-7247329ae82b",
   "metadata": {},
   "source": [
    "### Setup "
   ]
  },
  {
   "cell_type": "code",
   "execution_count": 1,
   "id": "096c6ff4-b652-48e8-8333-d0848b763927",
   "metadata": {},
   "outputs": [],
   "source": [
    "import pandas as pd\n",
    "import matplotlib.pyplot as plt\n",
    "import numpy as np\n",
    "import os\n",
    "import glob\n",
    "import datetime\n",
    "\n",
    "# New packages\n",
    "import warnings\n",
    "import itertools\n",
    "import statsmodels.api as sm\n",
    "import pmdarima as pm\n",
    "from pylab import rcParams"
   ]
  },
  {
   "cell_type": "markdown",
   "id": "ac5c5f19-bc6d-45db-8b05-2aabccd89c79",
   "metadata": {},
   "source": [
    "### Load Data"
   ]
  },
  {
   "cell_type": "code",
   "execution_count": 3,
   "id": "7623e45d-6e87-4395-b344-cfcca4c95d85",
   "metadata": {},
   "outputs": [
    {
     "ename": "KeyError",
     "evalue": "'date'",
     "output_type": "error",
     "traceback": [
      "\u001b[1;31m---------------------------------------------------------------------------\u001b[0m",
      "\u001b[1;31mKeyError\u001b[0m                                  Traceback (most recent call last)",
      "\u001b[1;32m~\\anaconda3\\envs\\geo_env\\lib\\site-packages\\pandas\\core\\indexes\\base.py\u001b[0m in \u001b[0;36mget_loc\u001b[1;34m(self, key, method, tolerance)\u001b[0m\n\u001b[0;32m   3360\u001b[0m             \u001b[1;32mtry\u001b[0m\u001b[1;33m:\u001b[0m\u001b[1;33m\u001b[0m\u001b[1;33m\u001b[0m\u001b[0m\n\u001b[1;32m-> 3361\u001b[1;33m                 \u001b[1;32mreturn\u001b[0m \u001b[0mself\u001b[0m\u001b[1;33m.\u001b[0m\u001b[0m_engine\u001b[0m\u001b[1;33m.\u001b[0m\u001b[0mget_loc\u001b[0m\u001b[1;33m(\u001b[0m\u001b[0mcasted_key\u001b[0m\u001b[1;33m)\u001b[0m\u001b[1;33m\u001b[0m\u001b[1;33m\u001b[0m\u001b[0m\n\u001b[0m\u001b[0;32m   3362\u001b[0m             \u001b[1;32mexcept\u001b[0m \u001b[0mKeyError\u001b[0m \u001b[1;32mas\u001b[0m \u001b[0merr\u001b[0m\u001b[1;33m:\u001b[0m\u001b[1;33m\u001b[0m\u001b[1;33m\u001b[0m\u001b[0m\n",
      "\u001b[1;32m~\\anaconda3\\envs\\geo_env\\lib\\site-packages\\pandas\\_libs\\index.pyx\u001b[0m in \u001b[0;36mpandas._libs.index.IndexEngine.get_loc\u001b[1;34m()\u001b[0m\n",
      "\u001b[1;32m~\\anaconda3\\envs\\geo_env\\lib\\site-packages\\pandas\\_libs\\index.pyx\u001b[0m in \u001b[0;36mpandas._libs.index.IndexEngine.get_loc\u001b[1;34m()\u001b[0m\n",
      "\u001b[1;32mpandas\\_libs\\hashtable_class_helper.pxi\u001b[0m in \u001b[0;36mpandas._libs.hashtable.PyObjectHashTable.get_item\u001b[1;34m()\u001b[0m\n",
      "\u001b[1;32mpandas\\_libs\\hashtable_class_helper.pxi\u001b[0m in \u001b[0;36mpandas._libs.hashtable.PyObjectHashTable.get_item\u001b[1;34m()\u001b[0m\n",
      "\u001b[1;31mKeyError\u001b[0m: 'date'",
      "\nThe above exception was the direct cause of the following exception:\n",
      "\u001b[1;31mKeyError\u001b[0m                                  Traceback (most recent call last)",
      "\u001b[1;32m~\\AppData\\Local\\Temp/ipykernel_3512/3281216330.py\u001b[0m in \u001b[0;36m<module>\u001b[1;34m\u001b[0m\n\u001b[0;32m     11\u001b[0m \u001b[1;33m\u001b[0m\u001b[0m\n\u001b[0;32m     12\u001b[0m \u001b[1;31m# Change date column from str to datetime and make it the index\u001b[0m\u001b[1;33m\u001b[0m\u001b[1;33m\u001b[0m\u001b[0m\n\u001b[1;32m---> 13\u001b[1;33m \u001b[0msst_df\u001b[0m\u001b[1;33m[\u001b[0m\u001b[1;34m'date'\u001b[0m\u001b[1;33m]\u001b[0m \u001b[1;33m=\u001b[0m \u001b[0mpd\u001b[0m\u001b[1;33m.\u001b[0m\u001b[0mto_datetime\u001b[0m\u001b[1;33m(\u001b[0m\u001b[0msst_df\u001b[0m\u001b[1;33m[\u001b[0m\u001b[1;34m'date'\u001b[0m\u001b[1;33m]\u001b[0m\u001b[1;33m)\u001b[0m\u001b[1;33m\u001b[0m\u001b[1;33m\u001b[0m\u001b[0m\n\u001b[0m\u001b[0;32m     14\u001b[0m \u001b[0msst_df\u001b[0m \u001b[1;33m=\u001b[0m \u001b[0msst_df\u001b[0m\u001b[1;33m.\u001b[0m\u001b[0mset_index\u001b[0m\u001b[1;33m(\u001b[0m\u001b[1;33m[\u001b[0m\u001b[1;34m'date'\u001b[0m\u001b[1;33m]\u001b[0m\u001b[1;33m)\u001b[0m\u001b[1;33m\u001b[0m\u001b[1;33m\u001b[0m\u001b[0m\n\u001b[0;32m     15\u001b[0m \u001b[1;33m\u001b[0m\u001b[0m\n",
      "\u001b[1;32m~\\anaconda3\\envs\\geo_env\\lib\\site-packages\\pandas\\core\\frame.py\u001b[0m in \u001b[0;36m__getitem__\u001b[1;34m(self, key)\u001b[0m\n\u001b[0;32m   3456\u001b[0m             \u001b[1;32mif\u001b[0m \u001b[0mself\u001b[0m\u001b[1;33m.\u001b[0m\u001b[0mcolumns\u001b[0m\u001b[1;33m.\u001b[0m\u001b[0mnlevels\u001b[0m \u001b[1;33m>\u001b[0m \u001b[1;36m1\u001b[0m\u001b[1;33m:\u001b[0m\u001b[1;33m\u001b[0m\u001b[1;33m\u001b[0m\u001b[0m\n\u001b[0;32m   3457\u001b[0m                 \u001b[1;32mreturn\u001b[0m \u001b[0mself\u001b[0m\u001b[1;33m.\u001b[0m\u001b[0m_getitem_multilevel\u001b[0m\u001b[1;33m(\u001b[0m\u001b[0mkey\u001b[0m\u001b[1;33m)\u001b[0m\u001b[1;33m\u001b[0m\u001b[1;33m\u001b[0m\u001b[0m\n\u001b[1;32m-> 3458\u001b[1;33m             \u001b[0mindexer\u001b[0m \u001b[1;33m=\u001b[0m \u001b[0mself\u001b[0m\u001b[1;33m.\u001b[0m\u001b[0mcolumns\u001b[0m\u001b[1;33m.\u001b[0m\u001b[0mget_loc\u001b[0m\u001b[1;33m(\u001b[0m\u001b[0mkey\u001b[0m\u001b[1;33m)\u001b[0m\u001b[1;33m\u001b[0m\u001b[1;33m\u001b[0m\u001b[0m\n\u001b[0m\u001b[0;32m   3459\u001b[0m             \u001b[1;32mif\u001b[0m \u001b[0mis_integer\u001b[0m\u001b[1;33m(\u001b[0m\u001b[0mindexer\u001b[0m\u001b[1;33m)\u001b[0m\u001b[1;33m:\u001b[0m\u001b[1;33m\u001b[0m\u001b[1;33m\u001b[0m\u001b[0m\n\u001b[0;32m   3460\u001b[0m                 \u001b[0mindexer\u001b[0m \u001b[1;33m=\u001b[0m \u001b[1;33m[\u001b[0m\u001b[0mindexer\u001b[0m\u001b[1;33m]\u001b[0m\u001b[1;33m\u001b[0m\u001b[1;33m\u001b[0m\u001b[0m\n",
      "\u001b[1;32m~\\anaconda3\\envs\\geo_env\\lib\\site-packages\\pandas\\core\\indexes\\base.py\u001b[0m in \u001b[0;36mget_loc\u001b[1;34m(self, key, method, tolerance)\u001b[0m\n\u001b[0;32m   3361\u001b[0m                 \u001b[1;32mreturn\u001b[0m \u001b[0mself\u001b[0m\u001b[1;33m.\u001b[0m\u001b[0m_engine\u001b[0m\u001b[1;33m.\u001b[0m\u001b[0mget_loc\u001b[0m\u001b[1;33m(\u001b[0m\u001b[0mcasted_key\u001b[0m\u001b[1;33m)\u001b[0m\u001b[1;33m\u001b[0m\u001b[1;33m\u001b[0m\u001b[0m\n\u001b[0;32m   3362\u001b[0m             \u001b[1;32mexcept\u001b[0m \u001b[0mKeyError\u001b[0m \u001b[1;32mas\u001b[0m \u001b[0merr\u001b[0m\u001b[1;33m:\u001b[0m\u001b[1;33m\u001b[0m\u001b[1;33m\u001b[0m\u001b[0m\n\u001b[1;32m-> 3363\u001b[1;33m                 \u001b[1;32mraise\u001b[0m \u001b[0mKeyError\u001b[0m\u001b[1;33m(\u001b[0m\u001b[0mkey\u001b[0m\u001b[1;33m)\u001b[0m \u001b[1;32mfrom\u001b[0m \u001b[0merr\u001b[0m\u001b[1;33m\u001b[0m\u001b[1;33m\u001b[0m\u001b[0m\n\u001b[0m\u001b[0;32m   3364\u001b[0m \u001b[1;33m\u001b[0m\u001b[0m\n\u001b[0;32m   3365\u001b[0m         \u001b[1;32mif\u001b[0m \u001b[0mis_scalar\u001b[0m\u001b[1;33m(\u001b[0m\u001b[0mkey\u001b[0m\u001b[1;33m)\u001b[0m \u001b[1;32mand\u001b[0m \u001b[0misna\u001b[0m\u001b[1;33m(\u001b[0m\u001b[0mkey\u001b[0m\u001b[1;33m)\u001b[0m \u001b[1;32mand\u001b[0m \u001b[1;32mnot\u001b[0m \u001b[0mself\u001b[0m\u001b[1;33m.\u001b[0m\u001b[0mhasnans\u001b[0m\u001b[1;33m:\u001b[0m\u001b[1;33m\u001b[0m\u001b[1;33m\u001b[0m\u001b[0m\n",
      "\u001b[1;31mKeyError\u001b[0m: 'date'"
     ]
    }
   ],
   "source": [
    "# Create empty dataframe\n",
    "sst_df = pd.DataFrame()\n",
    "\n",
    "# Append all data into single dataframe\n",
    "for f in glob.glob(\"data/*.csv\"):\n",
    "    df = pd.read_csv(f,\n",
    "                     usecols = [0,3],\n",
    "                     names = [\"date\", \"sst_c\"], \n",
    "                     skiprows = 2)\n",
    "    sst_df = sst_df.append(df, ignore_index = True)\n",
    "\n",
    "# Change date column from str to datetime and make it the index\n",
    "sst_df['date'] = pd.to_datetime(sst_df['date'])\n",
    "sst_df = sst_df.set_index(['date'])\n",
    "\n",
    "sst_df.head()"
   ]
  },
  {
   "cell_type": "markdown",
   "id": "a098ac77-7115-4952-b5b2-558f289123a4",
   "metadata": {},
   "source": [
    "We also need to resample our data to be monthly means rather than daily readings in order to make the forecasting approach more intuitive and straightforward. Due to the seasonality of SST data, it is much easier to forecast monthly data rather than daily."
   ]
  },
  {
   "cell_type": "code",
   "execution_count": null,
   "id": "f24e402f-316c-417e-bf89-8bbddf75699d",
   "metadata": {},
   "outputs": [],
   "source": [
    "# SST data resampled to monthly means to make forecasting more approachable\n",
    "sst_month_avg = sst_df['sst_c'].resample('MS').mean()\n",
    "\n",
    "sst_month_avg.plot()"
   ]
  },
  {
   "cell_type": "markdown",
   "id": "bccced66-d15b-4ad2-8326-a71239a20716",
   "metadata": {},
   "source": [
    "### Visualize Trends"
   ]
  },
  {
   "cell_type": "markdown",
   "id": "aa20732c-6020-41c5-b782-b63d1ffa911d",
   "metadata": {},
   "source": [
    "The decomposition plot shows the primary components of our time-series data. We can see the overall, seasonal, and residual trends. It is evident that seasonal variation is the primary driver of SST change over time."
   ]
  },
  {
   "cell_type": "code",
   "execution_count": null,
   "id": "b3bdf85f-99fe-48d6-8983-ca04ae7d1129",
   "metadata": {},
   "outputs": [],
   "source": [
    "rcParams['figure.figsize'] = 18, 8\n",
    "decomposition = sm.tsa.seasonal_decompose(sst_month_avg, model='additive')\n",
    "fig = decomposition.plot()\n",
    "plt.show()"
   ]
  },
  {
   "cell_type": "markdown",
   "id": "336891aa-3648-45ea-a644-b7c5102f96a7",
   "metadata": {},
   "source": [
    "Next, we show the autocorrelation of our time-series data. This plot again demonstrates the clear seasonal trend that we are observing. Data with a lag of 12 months have a high positive correlation with present data and data with a lag of 6 months have a high negative correlation. This is due to consistent seasonal temperature fluctuations."
   ]
  },
  {
   "cell_type": "code",
   "execution_count": null,
   "id": "96bbf6d1-87f8-44f8-8bb3-1efd43bdab28",
   "metadata": {},
   "outputs": [],
   "source": [
    "from statsmodels.graphics.tsaplots import plot_acf, plot_pacf\n",
    "\n",
    "plot_acf(sst_month_avg)\n",
    "plt.show()"
   ]
  },
  {
   "cell_type": "markdown",
   "id": "36a3c4d6-8838-4911-8030-39a815cd49f0",
   "metadata": {},
   "source": [
    "### SARIMA - Method 1"
   ]
  },
  {
   "cell_type": "markdown",
   "id": "2ce09f0a-9714-4093-948f-a20f7a12b47b",
   "metadata": {},
   "source": [
    "There are numerous forecasting methods and selecting the most \"accurate\" method is often the primary question that a research study aims to address. Due to limited time, we only test and implement a **Seasonal Auto-Regressive Integrated Moving Average** (SARIMA) model. We chose this model because it is highly popular for modeling time-series data with a seasonality component.\n",
    "\n",
    "The following code chunk demonstrates the importance of selecting the parameters for our SARIMA model, which is a complex task requiring significant knowledge of the model and data. Below, we show a sample of parameter choices and their corresponding Akaike information criterion (AIC), which is an estimator of model prediction error (thus, theoretically the lower the AIC, the better the model)."
   ]
  },
  {
   "cell_type": "code",
   "execution_count": null,
   "id": "c3e367aa-b34c-4ec7-909b-d0df95640f86",
   "metadata": {},
   "outputs": [],
   "source": [
    "warnings.filterwarnings(\"ignore\")\n",
    "\n",
    "p = range(0, 2)\n",
    "d = range(0, 1) # Limited range to display quicker\n",
    "q = range(0, 1) # Limited range to display quicker\n",
    "pdq = list(itertools.product(p, d, q))\n",
    "seasonal_pdq = [(x[0], x[1], x[2], 12) for x in list(itertools.product(p, d, q))]\n",
    "\n",
    "for param in pdq:\n",
    "    for param_seasonal in seasonal_pdq:\n",
    "        try:\n",
    "            mod = sm.tsa.statespace.SARIMAX(sst_month_avg,\n",
    "                                            order=param,\n",
    "                                            seasonal_order=param_seasonal,\n",
    "                                            enforce_stationarity=False,\n",
    "                                            enforce_invertibility=False)\n",
    "            results = mod.fit()\n",
    "            print('ARIMA{}x{}12 - AIC:{}'.format(param, param_seasonal, results.aic))\n",
    "        except:\n",
    "            continue"
   ]
  },
  {
   "cell_type": "markdown",
   "id": "cfdfdcdb-cbc0-46bf-bc1d-25e249418700",
   "metadata": {},
   "source": [
    "Out of our sample parameter choices below, we would select the fourth option because we observe the lowest AIC. The model results are then displayed below."
   ]
  },
  {
   "cell_type": "code",
   "execution_count": null,
   "id": "43b67b2e-cc44-4432-9ac1-b06ca5d29fe1",
   "metadata": {},
   "outputs": [],
   "source": [
    "mod = sm.tsa.statespace.SARIMAX(sst_month_avg,\n",
    "                                order=(1,0,0),\n",
    "                                seasonal_order=(1,0,0,12),\n",
    "                                enforce_stationarity=False,\n",
    "                                enforce_invertibility=False)\n",
    "results = mod.fit()\n",
    "print(results.summary().tables[1])"
   ]
  },
  {
   "cell_type": "code",
   "execution_count": null,
   "id": "629a3688-4319-4b99-a8e9-0c864545e559",
   "metadata": {},
   "outputs": [],
   "source": [
    "results.plot_diagnostics(figsize=(18,8))\n",
    "plt.show()"
   ]
  },
  {
   "cell_type": "markdown",
   "id": "4a54944a-92e4-4bf7-850a-59d2eefd8dd6",
   "metadata": {},
   "source": [
    "Next, we can use these model results to forecast values. The plot below demonstrates predicted and observed SST from 2015 to present."
   ]
  },
  {
   "cell_type": "code",
   "execution_count": null,
   "id": "21c745f1-7558-41ad-8e72-5173f67a4784",
   "metadata": {},
   "outputs": [],
   "source": [
    "start = '2015-11-01 00:00:00+00:00'\n",
    "\n",
    "pred = results.get_prediction(start=pd.to_datetime(start), dynamic=False)\n",
    "\n",
    "pred_ci = pred.conf_int()\n",
    "\n",
    "ax = sst_month_avg['2015':].plot(label='observed')\n",
    "\n",
    "pred.predicted_mean.plot(ax=ax, label='One-step ahead Forecast', alpha=.7, figsize=(14, 4))\n",
    "\n",
    "ax.fill_between(pred_ci.index,\n",
    "                pred_ci.iloc[:, 0],\n",
    "                pred_ci.iloc[:, 1], color='k', alpha=.2)\n",
    "\n",
    "ax.set_xlabel('Date')\n",
    "ax.set_ylabel('SST (celcius)')\n",
    "plt.legend()\n",
    "plt.show()"
   ]
  },
  {
   "cell_type": "markdown",
   "id": "441fd674-ef91-4067-bb52-7e2cf3de8557",
   "metadata": {},
   "source": [
    "The mean squared error and root mean squared error can be used to determine the accuracy of predictions."
   ]
  },
  {
   "cell_type": "code",
   "execution_count": null,
   "id": "7927bf53-7e18-45eb-baef-117cf89d0b3f",
   "metadata": {},
   "outputs": [],
   "source": [
    "y_forecasted = pred.predicted_mean\n",
    "y_truth = sst_month_avg[start:]\n",
    "mse = ((y_forecasted - y_truth) ** 2).mean()\n",
    "print('The Mean Squared Error is {}'.format(round(mse, 2)))\n",
    "print('The Root Mean Squared Error is {}'.format(round(np.sqrt(mse), 2)))"
   ]
  },
  {
   "cell_type": "markdown",
   "id": "46b0a2be-f941-49ee-b262-5176083e90d8",
   "metadata": {},
   "source": [
    "Lastly, we forecast future values."
   ]
  },
  {
   "cell_type": "code",
   "execution_count": null,
   "id": "266b3d7a-e004-4697-958e-b01720162ad8",
   "metadata": {},
   "outputs": [],
   "source": [
    "pred_uc = results.get_forecast(steps=48)\n",
    "pred_ci = pred_uc.conf_int()\n",
    "ax = sst_month_avg['2015':].plot(label='observed', figsize=(14, 4))\n",
    "pred_uc.predicted_mean.plot(ax=ax, label='Forecast')\n",
    "#ax.fill_between(pred_ci.index,\n",
    "#                pred_ci.iloc[:, 0],\n",
    "#                pred_ci.iloc[:, 1], color='k', alpha=.25)\n",
    "ax.set_xlabel('Date')\n",
    "ax.set_ylabel('SST (celcius)')\n",
    "plt.legend()\n",
    "plt.show()"
   ]
  },
  {
   "cell_type": "markdown",
   "id": "ce086127-9e26-423a-8c98-d0e3b0d85ed9",
   "metadata": {},
   "source": [
    "### SARIMA - Method 2"
   ]
  },
  {
   "cell_type": "markdown",
   "id": "c554d594-c69d-499e-b821-b469f2c803d6",
   "metadata": {},
   "source": [
    "Another method for creating a SARIMA model is to use `auto_arima`, which automates the selection of parameters. In the code chunk below, we split our dataset into two parts akin to \"training\" and \"validation\" datasets common in more rigorous machine learning techniques."
   ]
  },
  {
   "cell_type": "code",
   "execution_count": null,
   "id": "4ea10603-e238-4078-bb21-43202f21c253",
   "metadata": {},
   "outputs": [],
   "source": [
    "split = len(sst_month_avg[sst_month_avg.index.year < 2017])\n",
    "dataset, validation = sst_month_avg[:split], sst_month_avg[split:]\n",
    "print('Dataset length: %d, Validation length: %d' % (len(dataset), len(validation)))"
   ]
  },
  {
   "cell_type": "code",
   "execution_count": null,
   "id": "ef2535e5-f376-42f9-9646-3fcfb88e5a17",
   "metadata": {},
   "outputs": [],
   "source": [
    "dataset.plot()\n",
    "validation.plot()"
   ]
  },
  {
   "cell_type": "markdown",
   "id": "95aaf122-acd5-4896-abce-103ed66d307c",
   "metadata": {},
   "source": [
    "With `trace = True`, we see that `auto_arima` performs a similar operation as before. We can similarly display the results of our model."
   ]
  },
  {
   "cell_type": "code",
   "execution_count": null,
   "id": "9e34cd6b-44d3-4f32-bc63-92e37341224c",
   "metadata": {},
   "outputs": [],
   "source": [
    "model = pm.auto_arima(dataset, m = 12, trace = True, error_action = 'ignore', suppress_warnings = True)\n",
    "model.fit(dataset)"
   ]
  },
  {
   "cell_type": "code",
   "execution_count": null,
   "id": "72d4b748-7ac6-493a-847e-2a14bbed3806",
   "metadata": {},
   "outputs": [],
   "source": [
    "auto_results = model.fit(dataset)\n",
    "print(auto_results.summary().tables[1])"
   ]
  },
  {
   "cell_type": "code",
   "execution_count": null,
   "id": "eb0c709f-5b45-4b89-8631-cf1fd92afbf4",
   "metadata": {},
   "outputs": [],
   "source": [
    "auto_results.plot_diagnostics(figsize=(18,8))\n",
    "plt.show()"
   ]
  },
  {
   "cell_type": "code",
   "execution_count": null,
   "id": "2d3af064-5711-4cb5-aac9-afae94ff7a91",
   "metadata": {},
   "outputs": [],
   "source": [
    "forecast = model.predict(n_periods = len(validation))\n",
    "forecast = pd.DataFrame(forecast, index = validation.index, columns = ['Prediction'])\n",
    "                        \n",
    "plt.plot(dataset)\n",
    "plt.plot(validation)\n",
    "plt.plot(forecast)\n",
    "plt.show()"
   ]
  },
  {
   "cell_type": "markdown",
   "id": "880701f0-1bc8-4453-bba8-fd0367a509eb",
   "metadata": {},
   "source": [
    "### Conclusion"
   ]
  },
  {
   "cell_type": "markdown",
   "id": "dcc6ec49-882f-4a1a-90b0-e03140649efa",
   "metadata": {},
   "source": [
    "Further mastery in time-series forecasting combined with domain expertise in Sea Surface Temperature datasets is needed to accurately integrate a forecasting model such as `SARIMA` into our analysis. However, the techniques as shown above are approachable even for fledgling data scientists such as ourselves."
   ]
  }
 ],
 "metadata": {
  "kernelspec": {
   "display_name": "Python 3 (ipykernel)",
   "language": "python",
   "name": "python3"
  },
  "language_info": {
   "codemirror_mode": {
    "name": "ipython",
    "version": 3
   },
   "file_extension": ".py",
   "mimetype": "text/x-python",
   "name": "python",
   "nbconvert_exporter": "python",
   "pygments_lexer": "ipython3",
   "version": "3.9.7"
  }
 },
 "nbformat": 4,
 "nbformat_minor": 5
}
