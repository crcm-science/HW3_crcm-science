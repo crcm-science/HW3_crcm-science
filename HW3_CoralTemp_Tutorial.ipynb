{
 "cells": [
  {
   "cell_type": "markdown",
   "id": "2646a34e-a634-47ac-9fe7-73bf40ece8ae",
   "metadata": {},
   "source": [
    "# NOAA Coral Reef Watch's CoralTemp: Dataset Overview and Use Case Example\n",
    "## EDS 220, Fall 2021\n",
    "\n",
    "The following Jupyter notebook demonstrates key features and use case examples for the NOAA Coral Reef Watch CoralTemp dataset."
   ]
  },
  {
   "cell_type": "markdown",
   "id": "56a405bf-2d38-4175-a931-f52905e11211",
   "metadata": {},
   "source": [
    "## NOAA Coral Reef Watch (CRW) CoralTemp\n",
    "### Using the CoralTemp Dataset for Climate Resilient Coral Modeling (CRCM)"
   ]
  },
  {
   "cell_type": "markdown",
   "id": "dc47afd0-adb0-4d5b-8903-992b7904322e",
   "metadata": {},
   "source": [
    "#### Authors\n",
    "\n",
    "- Alex Clippinger, Bren School of Environmental Science & Management, (alexclippinger@ucsb.edu) \n",
    "- Charles Hendrickson, Bren School of Environmental Science & Management, (c_d_h@ucsb.edu)\n",
    "- Connor Flynn, Bren School of Environmental Science & Management, (connorflynn@ucsb.edu)"
   ]
  },
  {
   "cell_type": "markdown",
   "id": "1e8c2013-fef1-44ac-bb00-3215807cacac",
   "metadata": {
    "tags": []
   },
   "source": [
    "## Table of Contents\n",
    "\n",
    "[1. Purpose](#purpose)\n",
    "\n",
    "[2. Dataset Description](#overview)\n",
    "\n",
    "[3. Data I/O](#io)\n",
    "\n",
    "[4. Metadata Display and Basic Visualization](#display)\n",
    "\n",
    "[5. Use Case Examples](#usecases)\n",
    "\n",
    "[6. Create Binder Environment](#binder)\n",
    "\n",
    "[7. References](#references)"
   ]
  },
  {
   "cell_type": "markdown",
   "id": "ba52c6e3-3584-48be-b500-21578b61bd72",
   "metadata": {},
   "source": [
    "<a id='purpose'></a> \n",
    "### Purpose"
   ]
  },
  {
   "cell_type": "markdown",
   "id": "25d2e353-9a0f-4e68-a897-1899a9f90f9e",
   "metadata": {},
   "source": [
    "This notebook was created to provide an introduction to the NOAA Coral Reef Watch CoralTemp data products, specifically the 5-km sea surface temperature dataset, although we will also introduce the sea surface temperature anomaly and degree heating week datasets. We will demonstrate the capability of these data products to analyze heat resilient coral in the face of warming sea surface temperatures."
   ]
  },
  {
   "cell_type": "markdown",
   "id": "d429260a-2c30-44da-a5af-e100a440056a",
   "metadata": {},
   "source": [
    "<a id='overview'></a> \n",
    "### Dataset Description"
   ]
  },
  {
   "cell_type": "markdown",
   "id": "30571544-7235-4841-b216-b3b4445ecd41",
   "metadata": {},
   "source": [
    "#### Creators of the dataset\n",
    "\n",
    "The CoralTemp data products are maintained by NOAA's Coral Reef Watch Organization (CRW). CRW was established in 2000 to address the need to enhance coral reef resilience. Since then, the organization has accurately monitored and predicted all major bleaching events since 1997. The CoralTemp dataset is the foundation of Coral Reef Watch's ability to fulfill the mission of protecting coral reefs."
   ]
  },
  {
   "cell_type": "markdown",
   "id": "767c4653-efdf-453a-8203-9ce83000141a",
   "metadata": {},
   "source": [
    "#### Major characteristics\n",
    "\n",
    "CoralTemp is a global sea surface temperature data product used primarily for coral bleaching monitoring. The dataset contains many data products based on 5 geostationary and 3 polar-orbiting satellites. These products include the main sea surface temperature data set (which is the basis for the other products), degree heating week (DHW), bleaching alert areas, coral bleaching hotspots, sea ice fraction, and sea surface temperature anomaly.\n",
    "\n",
    "- Description of data products:\n",
    "  - SST: Nighttime sea surface temperature (celcius), calibrated to 0.2 meters depth, across the entire globe.\n",
    "  - SST Anomaly: A comparison of current sea surface temperature with the long term mean SST at a given location during a certain period of time\n",
    "    - The temperature anomalies range from -5.0 to +5.0 degrees Celsius (°C). Data and images are updated daily\n",
    "  - Degree Heating Week - The DHW shows how much heat stress (SST above the bleaching threshold) has accumulated in an area.\n",
    "    - The units for DHW are \"degree Celsius-weeks\" (or °C-weeks), combining the intensity and duration of the oceanic heat stress into a single number.\n",
    "  - Bleaching Alert Area\n",
    "    - 5 levels (no stress, bleaching warning, bleaching watch, alert level 1, alert level 2)\n",
    "    - Produced based on DHW\n",
    "    \n",
    "We will focus on the primary sea surface temperature (SST) dataset for the remainder of the notebook. The key details of the SST dataset include: \n",
    "- Spatial Resolution: 5km gridded cells.\n",
    "- Spatial Coverage: The dataset has a complete spatial coverage of the ocean. \n",
    "- Temporal Resolution: 1985-04-01 to present. "
   ]
  },
  {
   "cell_type": "markdown",
   "id": "96be1ce0-3889-457b-860f-7c143f2c6c21",
   "metadata": {},
   "source": [
    "#### File format(s)\n",
    "\n",
    "Data can be downloaded as CSV, netCDF, geotiff, and other common file formats with some unique limitations. For example, geotiff downloads can only contain a single day of data. CSV downloads on the other hand can contain multiple days of observations in a single file. The data is produced daily in near real-time, with an approximately 60 hour delay in availability from the present.\n",
    "\n",
    "A detailed list of output formats can be found in the data product documentation here: https://coastwatch.pfeg.noaa.gov/erddap/griddap/documentation.html"
   ]
  },
  {
   "cell_type": "markdown",
   "id": "e0a72757-da5b-4e1a-8eeb-18b9b62232e0",
   "metadata": {},
   "source": [
    "#### Source/Archive\n",
    "\n",
    "The data can be accessed via a REST API data access form. Here is the URL for manually querying the data: https://coastwatch.pfeg.noaa.gov/erddap/griddap/NOAA_DHW.html\n",
    "\n",
    "This data source is maintained by the creator of the dataset, NOAA, indicating that this should be a reliable source of data for the foreseeable future."
   ]
  },
  {
   "cell_type": "markdown",
   "id": "3ed98886-fd82-46d0-9a33-f21dee373a5f",
   "metadata": {},
   "source": [
    "#### Known issues with data quality\n",
    "\n",
    "NOAA satellite data sets have specified processing levels ranging from 0 to 4, with 0 indicating unprocessed telemetry data as received and 4 indicating data products that are model output or results from analysis derived from multiple measurements. The CoralTemp SST product is derived from three level-4 satellite datasets:\n",
    "  - NOAA/NESDIS operational near-real-time daily global 5-km geostationary-polar-orbiting (geo-polar) blended night-only SST analysis\n",
    "  - NOAA/NESDIS 2002-2016 reprocessed daily global 5-km geo-polar blended night-only SST analysis\n",
    "  - United Kingdom Met Office 1985-2002 daily global 5-km night-only SST reanalysis of Operational SST and Sea Ice Analysis (OSTIA)\n",
    "\n",
    "Thus, the data is gridded and gap-filled according to NOAA’s highest processing level. Therefore, there are no significant gaps in data, spatially or temporally, and all outliers and spikes are likely reflective of real world occurrences.\n",
    "\n",
    "Source: https://coralreefwatch.noaa.gov/product/5km/tutorial/crw05a_sst_product.php\n",
    "\n",
    "However, there are limitations associated with using the dataset, which has a 5-km grid resolution and once-daily measurements. Although sufficient for numerous useful applications, this spatial scale may not be high enough for certain applications, such as drawing conclusions on variation in sea surface temperature within a small area such as a coral reef. Ocean sea surface temperature varies continuously across the surface, not in gridded cells, which could introduce an inherent bias in our analysis. In addition, ocean temperature varies consistently over time, while the dataset only contains a single nighttime reading per day."
   ]
  },
  {
   "cell_type": "markdown",
   "id": "02d5cb75-cb54-4708-8b88-459cae2ca17d",
   "metadata": {},
   "source": [
    "<a id='io'></a> \n",
    "### Dataset Input/Output "
   ]
  },
  {
   "cell_type": "markdown",
   "id": "8197ac3c-39b4-4696-8162-44430c9bcc02",
   "metadata": {},
   "source": [
    "The following code chunks demonstrate how to read in CoralTemp data for analysis."
   ]
  },
  {
   "cell_type": "markdown",
   "id": "f7f0013f-5765-4fcc-a8d9-5d293b7665ab",
   "metadata": {},
   "source": [
    "#### Import all necessary packages"
   ]
  },
  {
   "cell_type": "code",
   "execution_count": 1,
   "id": "f43959aa-52a4-4c12-811d-ae7efbcee395",
   "metadata": {},
   "outputs": [],
   "source": [
    "import pandas as pd\n",
    "import matplotlib.pyplot as plt"
   ]
  },
  {
   "cell_type": "markdown",
   "id": "4b08bef7-3ce5-445a-b2d8-e583f78a72d7",
   "metadata": {},
   "source": [
    "#### Set parameters"
   ]
  },
  {
   "cell_type": "code",
   "execution_count": 2,
   "id": "6df25088-d576-4345-9951-ad391604ae94",
   "metadata": {},
   "outputs": [],
   "source": [
    "# Set parameters used in data access query\n",
    "start_date = '2019-01-01T12:00:00Z'\n",
    "end_date = '2019-12-31T12:00:00Z'\n",
    "product_code = 'SST'\n",
    "output_format = 'csv'\n",
    "\n",
    "# Bounding box for our area of interest\n",
    "ymax = '19.800'\n",
    "ymin = '19.750'\n",
    "xmin = '-155.099'\n",
    "xmax = '-155.050'"
   ]
  },
  {
   "cell_type": "markdown",
   "id": "e7464e54-9897-4833-9d49-348e36a0b419",
   "metadata": {},
   "source": [
    "#### Load CoralTemp data"
   ]
  },
  {
   "cell_type": "code",
   "execution_count": 3,
   "id": "d56c0a80-b195-4533-b1c9-4c0a0e1c4ff5",
   "metadata": {},
   "outputs": [
    {
     "data": {
      "text/html": [
       "<div>\n",
       "<style scoped>\n",
       "    .dataframe tbody tr th:only-of-type {\n",
       "        vertical-align: middle;\n",
       "    }\n",
       "\n",
       "    .dataframe tbody tr th {\n",
       "        vertical-align: top;\n",
       "    }\n",
       "\n",
       "    .dataframe thead th {\n",
       "        text-align: right;\n",
       "    }\n",
       "</style>\n",
       "<table border=\"1\" class=\"dataframe\">\n",
       "  <thead>\n",
       "    <tr style=\"text-align: right;\">\n",
       "      <th></th>\n",
       "      <th>date</th>\n",
       "      <th>latitude</th>\n",
       "      <th>longitude</th>\n",
       "      <th>sst_c</th>\n",
       "    </tr>\n",
       "  </thead>\n",
       "  <tbody>\n",
       "    <tr>\n",
       "      <th>0</th>\n",
       "      <td>2019-01-01 12:00:00+00:00</td>\n",
       "      <td>19.775</td>\n",
       "      <td>-155.075</td>\n",
       "      <td>24.86</td>\n",
       "    </tr>\n",
       "    <tr>\n",
       "      <th>1</th>\n",
       "      <td>2019-01-02 12:00:00+00:00</td>\n",
       "      <td>19.775</td>\n",
       "      <td>-155.075</td>\n",
       "      <td>24.97</td>\n",
       "    </tr>\n",
       "    <tr>\n",
       "      <th>2</th>\n",
       "      <td>2019-01-03 12:00:00+00:00</td>\n",
       "      <td>19.775</td>\n",
       "      <td>-155.075</td>\n",
       "      <td>24.94</td>\n",
       "    </tr>\n",
       "    <tr>\n",
       "      <th>3</th>\n",
       "      <td>2019-01-04 12:00:00+00:00</td>\n",
       "      <td>19.775</td>\n",
       "      <td>-155.075</td>\n",
       "      <td>24.92</td>\n",
       "    </tr>\n",
       "    <tr>\n",
       "      <th>4</th>\n",
       "      <td>2019-01-05 12:00:00+00:00</td>\n",
       "      <td>19.775</td>\n",
       "      <td>-155.075</td>\n",
       "      <td>24.77</td>\n",
       "    </tr>\n",
       "  </tbody>\n",
       "</table>\n",
       "</div>"
      ],
      "text/plain": [
       "                       date  latitude  longitude  sst_c\n",
       "0 2019-01-01 12:00:00+00:00    19.775   -155.075  24.86\n",
       "1 2019-01-02 12:00:00+00:00    19.775   -155.075  24.97\n",
       "2 2019-01-03 12:00:00+00:00    19.775   -155.075  24.94\n",
       "3 2019-01-04 12:00:00+00:00    19.775   -155.075  24.92\n",
       "4 2019-01-05 12:00:00+00:00    19.775   -155.075  24.77"
      ]
     },
     "execution_count": 3,
     "metadata": {},
     "output_type": "execute_result"
    }
   ],
   "source": [
    "# Query to pull data from Coral Reef Watch data products\n",
    "base_url = 'https://coastwatch.pfeg.noaa.gov/erddap/griddap/NOAA_DHW.'\n",
    "query = base_url+output_format+'?CRW_'+product_code+'%5B('+start_date+'):1:('+end_date+')%5D%5B('+ymax+'):1:('+ymin+')%5D%5B('+xmin+'):1:('+xmax+')%5D'\n",
    "\n",
    "# Read csv\n",
    "df = pd.read_csv(query, \n",
    "                 names = [\"date\", \"latitude\", \"longitude\", \"sst_c\"], \n",
    "                 skiprows = 2)\n",
    "\n",
    "# Remove timestamp and set date as index\n",
    "df[\"date\"] = pd.to_datetime(df[\"date\"])\n",
    "\n",
    "# Show preview of dataset\n",
    "df.head()"
   ]
  },
  {
   "cell_type": "markdown",
   "id": "30253e61-0707-4540-9c86-9afc6df27958",
   "metadata": {},
   "source": [
    "<a id='display'></a> \n",
    "### Metadata Display and Basic Visualization"
   ]
  },
  {
   "cell_type": "markdown",
   "id": "77041da8-a993-4f02-8f9f-de5560c6d00f",
   "metadata": {},
   "source": [
    "#### Metadata\n",
    "\n",
    "A complete list of variables and attributes, as well as their descriptions, are provided on the Data Access Form used to download CoralTemp data products. Additionally, information like the publisher name, email, and institution is provided, as well as an overall summary of the dataset, specific products, and output file formats. Information about key variables such as time, latitude, longitude, and their associated mask is extensively documented in the metadata. \n",
    "  - Data Access Form/output format documentation: https://coastwatch.pfeg.noaa.gov/erddap/griddap/documentation.html\n",
    "  - Detailed Metadata on all CoralTemp data products: https://coastwatch.pfeg.noaa.gov/erddap/info/NOAA_DHW/index.html"
   ]
  },
  {
   "cell_type": "markdown",
   "id": "846dd3fe-3cd3-4d63-8acc-c9071956f24c",
   "metadata": {},
   "source": [
    "#### Basic Visualization"
   ]
  },
  {
   "cell_type": "code",
   "execution_count": 4,
   "id": "1e3862aa-01a3-4463-beca-2dd808177fd4",
   "metadata": {},
   "outputs": [
    {
     "data": {
      "image/png": "[encoded data removed]",
      "text/plain": [
       "<Figure size 720x720 with 1 Axes>"
      ]
     },
     "metadata": {
      "needs_background": "light"
     },
     "output_type": "display_data"
    }
   ],
   "source": [
    "# Create basic time-series\n",
    "fig, ax = plt.subplots(figsize = (10, 10))\n",
    "ax.plot(df[\"date\"],\n",
    "        df[\"sst_c\"])\n",
    "\n",
    "ax.set(xlabel = \"Date\",\n",
    "       ylabel = \"SST (celsius)\",\n",
    "       title = \"Daily SST\")\n",
    "plt.setp(ax.get_xticklabels(), rotation = 45)\n",
    "plt.show()"
   ]
  },
  {
   "cell_type": "markdown",
   "id": "62354cdf-609f-487d-be51-9ea306997a69",
   "metadata": {},
   "source": [
    "<a id='usecases'></a> \n",
    "### Use Case Examples"
   ]
  },
  {
   "cell_type": "markdown",
   "id": "9e5b04a9-b2bb-40ed-bb8c-9c75d3494c38",
   "metadata": {},
   "source": [
    "This is the \"meat\" of the notebook, and what will take the majority of the time to present in class. This section should provide:\n",
    "1) A plain-text summary (1-2 paragraphs) of the use case example you have chosen: include the target users and audience, and potential applicability. For example, the Week 7 SST exercise might discuss how the state of the ENSO system can be important for seasonal weather forecasts/coral bleaching outlooks, then mention the typical diagnostics associated with ENSO (i.e. identification of El Nino/La Nina events).\n",
    "\n",
    "2) Markdown and code blocks demonstrating how one walks through the desired use case example. This should be similar to the labs we've done in class: you might want to demonstrate how to isolate a particularly interesting time period, then create an image showing a feature you're interested in, for example.\n",
    "\n",
    "3) A discussion of the results and how they might be extended on further analysis. For example, we are doing El Nino/La Nina composites in class; a natural extension might be to look at individual events to see what their particular impacts were. Or if there are data quality issues which impact the results, you could discuss how these might be mitigated with additional information/analysis.\n",
    "\n",
    "Just keep in mind, you'll have roughly 20 minutes for your full presentation, and that goes surprisingly quickly! Probably 2-3 diagnostics is the most you'll be able to get through (you could try practicing with your group members to get a sense of timing).\n"
   ]
  },
  {
   "cell_type": "markdown",
   "id": "77e06922-61db-4a97-8b3b-764e75fc177c",
   "metadata": {},
   "source": [
    "#### Summary"
   ]
  },
  {
   "cell_type": "markdown",
   "id": "5524e8ed-14db-4331-a0b4-7168b29c8132",
   "metadata": {},
   "source": [
    "Our team will demonstrate the ability to use the CoralTemp dataset to analyze heat resilient coral and the effects of rising sea surface temperatures on coral bleaching. Using three different SST warming scenarios (0.4 degree celsius increase by 2025, 0.8 degree celsius increase by 2025, and 1.1 degree celsius increase by 2025) we will explore the resilience of heat tolerant coral (specifically coral with a symbiont algae that increases it’s bleaching threshold by 1.5 degree celsius compared to non heat tolerant coral). We are focusing on a gridded cell containing a reef known to have heat tolerant coral, located near Hilo, Hawai'i. "
   ]
  },
  {
   "cell_type": "markdown",
   "id": "09899844-95b4-4f53-ae01-fd2cf58a8bea",
   "metadata": {},
   "source": [
    "#### Walkthrough"
   ]
  },
  {
   "cell_type": "code",
   "execution_count": 5,
   "id": "ae6d9b5c-86c3-4984-b86b-c62bf06521d0",
   "metadata": {},
   "outputs": [],
   "source": [
    "import pandas as pd\n",
    "import matplotlib.pyplot as plt\n",
    "import numpy as np\n",
    "import os\n",
    "import glob\n",
    "import statsmodels.api as sm\n",
    "import itertools\n",
    "import datetime"
   ]
  },
  {
   "cell_type": "code",
   "execution_count": 6,
   "id": "882c8d62-b823-44eb-89c0-037ce9f68c82",
   "metadata": {},
   "outputs": [
    {
     "data": {
      "text/html": [
       "<div>\n",
       "<style scoped>\n",
       "    .dataframe tbody tr th:only-of-type {\n",
       "        vertical-align: middle;\n",
       "    }\n",
       "\n",
       "    .dataframe tbody tr th {\n",
       "        vertical-align: top;\n",
       "    }\n",
       "\n",
       "    .dataframe thead th {\n",
       "        text-align: right;\n",
       "    }\n",
       "</style>\n",
       "<table border=\"1\" class=\"dataframe\">\n",
       "  <thead>\n",
       "    <tr style=\"text-align: right;\">\n",
       "      <th></th>\n",
       "      <th>sst_c</th>\n",
       "    </tr>\n",
       "    <tr>\n",
       "      <th>date</th>\n",
       "      <th></th>\n",
       "    </tr>\n",
       "  </thead>\n",
       "  <tbody>\n",
       "    <tr>\n",
       "      <th>1985-11-09 12:00:00+00:00</th>\n",
       "      <td>25.45</td>\n",
       "    </tr>\n",
       "    <tr>\n",
       "      <th>1985-11-10 12:00:00+00:00</th>\n",
       "      <td>25.56</td>\n",
       "    </tr>\n",
       "    <tr>\n",
       "      <th>1985-11-11 12:00:00+00:00</th>\n",
       "      <td>25.70</td>\n",
       "    </tr>\n",
       "    <tr>\n",
       "      <th>1985-11-12 12:00:00+00:00</th>\n",
       "      <td>25.87</td>\n",
       "    </tr>\n",
       "    <tr>\n",
       "      <th>1985-11-13 12:00:00+00:00</th>\n",
       "      <td>26.02</td>\n",
       "    </tr>\n",
       "    <tr>\n",
       "      <th>...</th>\n",
       "      <td>...</td>\n",
       "    </tr>\n",
       "    <tr>\n",
       "      <th>2021-11-05 12:00:00+00:00</th>\n",
       "      <td>25.77</td>\n",
       "    </tr>\n",
       "    <tr>\n",
       "      <th>2021-11-06 12:00:00+00:00</th>\n",
       "      <td>25.79</td>\n",
       "    </tr>\n",
       "    <tr>\n",
       "      <th>2021-11-07 12:00:00+00:00</th>\n",
       "      <td>25.67</td>\n",
       "    </tr>\n",
       "    <tr>\n",
       "      <th>2021-11-08 12:00:00+00:00</th>\n",
       "      <td>25.57</td>\n",
       "    </tr>\n",
       "    <tr>\n",
       "      <th>2021-11-09 12:00:00+00:00</th>\n",
       "      <td>25.75</td>\n",
       "    </tr>\n",
       "  </tbody>\n",
       "</table>\n",
       "<p>13150 rows × 1 columns</p>\n",
       "</div>"
      ],
      "text/plain": [
       "                           sst_c\n",
       "date                            \n",
       "1985-11-09 12:00:00+00:00  25.45\n",
       "1985-11-10 12:00:00+00:00  25.56\n",
       "1985-11-11 12:00:00+00:00  25.70\n",
       "1985-11-12 12:00:00+00:00  25.87\n",
       "1985-11-13 12:00:00+00:00  26.02\n",
       "...                          ...\n",
       "2021-11-05 12:00:00+00:00  25.77\n",
       "2021-11-06 12:00:00+00:00  25.79\n",
       "2021-11-07 12:00:00+00:00  25.67\n",
       "2021-11-08 12:00:00+00:00  25.57\n",
       "2021-11-09 12:00:00+00:00  25.75\n",
       "\n",
       "[13150 rows x 1 columns]"
      ]
     },
     "execution_count": 6,
     "metadata": {},
     "output_type": "execute_result"
    }
   ],
   "source": [
    "## Import our SST data\n",
    "\n",
    "# create empty dataframe\n",
    "sst_df = pd.DataFrame()\n",
    "\n",
    "# append all data into single dataframe\n",
    "for f in glob.glob(r\"data/*.csv\"):\n",
    "    df = pd.read_csv(f,\n",
    "                     usecols = [0,3],\n",
    "                     names = [\"date\", \"sst_c\"], \n",
    "                     skiprows = 2)\n",
    "    sst_df = sst_df.append(df, ignore_index = True)\n",
    "\n",
    "# change date column from str to datetime and make it the index\n",
    "sst_df['date'] = pd.to_datetime(sst_df['date'])\n",
    "sst_df = sst_df.set_index(['date'])\n",
    "\n",
    "# set datetime frequency to days\n",
    "sst_df = sst_df.asfreq('d')\n",
    "\n",
    "sst_df"
   ]
  },
  {
   "cell_type": "code",
   "execution_count": 7,
   "id": "31d519f6-185a-4953-8f12-c97963f9047c",
   "metadata": {},
   "outputs": [],
   "source": [
    "## Create a dataframe of \"forecasted\" SST\n",
    "\n",
    "# Create \"training\" dataset - in this simple example, we are just using the year prior\n",
    "sst_df_training = sst_df['2020-11-10 12:00:00+00:00':'2021-11-09 12:00:00+00:00']\n",
    "\n",
    "# Create empty dataframe\n",
    "sst_df_forecast = pd.DataFrame(columns = ['date', 'sst_c'])\n",
    "\n",
    "# Add date range to date column\n",
    "sst_df_forecast['date'] = pd.date_range(start = '2021-11-10 12:00:00+00:00', end = '2030-11-09 12:00:00+00:00')\n",
    "\n",
    "# change date column from str to datetime and make it the index\n",
    "sst_df_forecast['date'] = pd.to_datetime(sst_df_forecast['date'])\n",
    "sst_df_forecast = sst_df_forecast.set_index(['date'])\n",
    "\n",
    "# set datetime frequency to days\n",
    "sst_df_forecast = sst_df_forecast.asfreq('d')\n",
    "\n",
    "# remove leap days\n",
    "sst_df_forecast = sst_df_forecast[~((sst_df_forecast.index.month == 2) & (sst_df_forecast.index.day == 29))]\n",
    "\n",
    "# Straightforwardly forecast SST warming\n",
    "sst_df_forecast['2021-11-10 12:00:00+00:00':'2022-11-09 12:00:00+00:00'] = sst_df_training + 0.1\n",
    "sst_df_forecast['2022-11-10 12:00:00+00:00':'2023-11-09 12:00:00+00:00'] = sst_df_training + 0.2\n",
    "sst_df_forecast['2023-11-10 12:00:00+00:00':'2024-11-09 12:00:00+00:00'] = sst_df_training + 0.3\n",
    "sst_df_forecast['2024-11-10 12:00:00+00:00':'2025-11-09 12:00:00+00:00'] = sst_df_training + 0.4\n",
    "sst_df_forecast['2025-11-10 12:00:00+00:00':'2026-11-09 12:00:00+00:00'] = sst_df_training + 0.5\n",
    "sst_df_forecast['2026-11-10 12:00:00+00:00':'2027-11-09 12:00:00+00:00'] = sst_df_training + 0.6\n",
    "sst_df_forecast['2027-11-10 12:00:00+00:00':'2028-11-09 12:00:00+00:00'] = sst_df_training + 0.7\n",
    "sst_df_forecast['2028-11-10 12:00:00+00:00':'2029-11-09 12:00:00+00:00'] = sst_df_training + 0.8\n",
    "sst_df_forecast['2029-11-10 12:00:00+00:00':'2030-11-09 12:00:00+00:00'] = sst_df_training + 0.9"
   ]
  },
  {
   "cell_type": "code",
   "execution_count": 8,
   "id": "651a9f8c-d6c3-4914-a1f9-ec4d94c874fe",
   "metadata": {},
   "outputs": [
    {
     "data": {
      "image/png": "[encoded data removed]",
      "text/plain": [
       "<Figure size 720x720 with 1 Axes>"
      ]
     },
     "metadata": {
      "needs_background": "light"
     },
     "output_type": "display_data"
    }
   ],
   "source": [
    "## Create time-series of forecasted SST values\n",
    "\n",
    "fig, ax = plt.subplots(figsize = (10, 10))\n",
    "ax.plot(sst_df.index,\n",
    "        sst_df[\"sst_c\"],\n",
    "        label = \"Observed\")\n",
    "\n",
    "ax.plot(sst_df_forecast.index,\n",
    "        sst_df_forecast[\"sst_c\"],\n",
    "        label = \"Forecasted\")\n",
    "\n",
    "ax.legend()\n",
    "\n",
    "ax.set(xlabel = \"Date\",\n",
    "       ylabel = \"SST (celsius)\",\n",
    "       title = \"Daily SST\")\n",
    "\n",
    "ax.set_xlim(left = datetime.date(2019, 1, 1), right = datetime.date(2030, 11, 9))\n",
    "\n",
    "plt.setp(ax.get_xticklabels(), rotation = 45)\n",
    "plt.show()"
   ]
  },
  {
   "cell_type": "code",
   "execution_count": 9,
   "id": "aa19dca7-8ec7-42f5-85e0-51dc5844598a",
   "metadata": {},
   "outputs": [
    {
     "name": "stdout",
     "output_type": "stream",
     "text": [
      "Normal bleaching threshold: 26.62\n",
      "Heat tolerant bleaching threshold: 28.12\n"
     ]
    }
   ],
   "source": [
    "## Calculate our bleaching thresholds\n",
    "\n",
    "# Base year data\n",
    "df = sst_df['2019-01-01T12:00:00Z':'2019-12-31T12:00:00Z']\n",
    "df = df.reset_index()\n",
    "\n",
    "# set parameters used in query\n",
    "start_date = '2019-01-01T12:00:00Z'\n",
    "end_date = '2019-12-31T12:00:00Z'\n",
    "product_code = 'SSTANOMALY'\n",
    "output_format = 'csv'\n",
    "\n",
    "ymax = '19.800'\n",
    "ymin = '19.750'\n",
    "xmin = '-155.099'\n",
    "xmax = '-155.050'\n",
    "\n",
    "# query to pull data from Coral Reef Watch data products\n",
    "query = r'https://coastwatch.pfeg.noaa.gov/erddap/griddap/NOAA_DHW.'+output_format+'?CRW_'+product_code+'%5B('+start_date+'):1:('+end_date+')%5D%5B('+ymax+'):1:('+ymin+')%5D%5B('+xmin+'):1:('+xmax+')%5D'\n",
    "\n",
    "# read csv\n",
    "df_anomaly = pd.read_csv(query, \n",
    "                         usecols = [0,3],\n",
    "                         names = [\"date\", \"sst_anomaly\"], \n",
    "                         skiprows = 2)\n",
    "\n",
    "# remove timestamp\n",
    "df_anomaly[\"date\"] = pd.to_datetime(df_anomaly[\"date\"])\n",
    "\n",
    "# calculate 28 year mean based on anomaly dataset\n",
    "df_anomaly[\"monthly_mean_sst\"] = df['sst_c'] - df_anomaly['sst_anomaly']\n",
    "\n",
    "# find max monthly mean\n",
    "df_month = df_anomaly.groupby(df_anomaly[\"date\"].dt.strftime('%B'))['monthly_mean_sst'].mean().sort_values()\n",
    "\n",
    "# Set bleaching thresholds\n",
    "bleaching_threshold = df_month.max()\n",
    "bleaching_threshold_ht = df_month.max() + 1.5\n",
    "\n",
    "print(\"Normal bleaching threshold: \" + str(bleaching_threshold.round(2)))\n",
    "print(\"Heat tolerant bleaching threshold: \" + str(bleaching_threshold_ht.round(2)))"
   ]
  },
  {
   "cell_type": "code",
   "execution_count": 10,
   "id": "b4b20b4c-9f7b-4cdd-9f6f-33328d1aace3",
   "metadata": {},
   "outputs": [],
   "source": [
    "## Calculate degree heating week"
   ]
  },
  {
   "cell_type": "code",
   "execution_count": 11,
   "id": "c5da48ec-d5a5-4e15-bc27-ca7956de9b32",
   "metadata": {},
   "outputs": [],
   "source": [
    "## Plot degree heating weeks/fill in above SST threshold"
   ]
  },
  {
   "cell_type": "code",
   "execution_count": 12,
   "id": "91fd5e0f-51b8-4e80-80ed-e247c1968b32",
   "metadata": {},
   "outputs": [],
   "source": [
    "## Summarize"
   ]
  },
  {
   "cell_type": "markdown",
   "id": "9d07de0d-1e81-442a-a895-7b7fd7906385",
   "metadata": {},
   "source": [
    "<a id='binder'></a> \n",
    "### Create Binder Environment\n",
    "\n",
    "The last step is to create a Binder environment for your project, so that we don't have to spend time configuring everyone's environment each time we switch between group presentations. Instructions are below:\n",
    "\n",
    " - Assemble all of the data needed in your Github repo: Jupyter notebooks, a README file, and any datasets needed (these should be small, if included within the repo). Larger datasets should be stored on a separate server, and access codes included within the Jupyter notebook as discussed above. \n",
    " \n",
    " - Create an _environment_ file: this is a text file which contains information on the packages needed in order to execute your code. The filename should be \"environment.yml\": an example that you can use for the proper syntax is included in this template repo. To determine which packages to include, you'll probably want to start by displaying the packages loaded in your environment: you can use the command `conda list -n [environment_name]` to get a list.\n",
    " \n",
    " More information on environment files can be found here:\n",
    " https://docs.conda.io/projects/conda/en/latest/user-guide/tasks/manage-environments.html#\n",
    "\n",
    " - Create Binder. Use http://mybinder.org to create a  URL for your notebook Binder (you will need to enter your GitHub repo URL). You can also add a Launch Binder button directly to your GitHub repo, by including the following in your README.md:\n",
    "\n",
    "```\n",
    "launch with myBinder\n",
    "[![Binder](https://mybinder.org/badge.svg)](https://mybinder.org/v2/gh/<path to your repo>)\n",
    "```"
   ]
  },
  {
   "cell_type": "markdown",
   "id": "c62c774b-8a7c-4f47-9c07-7f9823c48473",
   "metadata": {},
   "source": [
    "<a id='references'></a> \n",
    "### References\n",
    "\n",
    "List relevant references. Here are some additional resources on creating professional, shareable notebooks you may find useful:\n",
    "\n",
    "1. Notebook sharing guidelines from reproducible-science-curriculum: https://reproducible-science-curriculum.github.io/publication-RR-Jupyter/\n",
    "2. Guide for developing shareable notebooks by Kevin Coakley, SDSC: https://github.com/kevincoakley/sharing-jupyter-notebooks/raw/master/Jupyter-Notebooks-Sharing-Recommendations.pdf\n",
    "3. Guide for sharing notebooks by Andrea Zonca, SDSC: https://zonca.dev/2020/09/how-to-share-jupyter-notebooks.html\n",
    "4. Jupyter Notebook Best Practices: https://towardsdatascience.com/jupyter-notebook-best-practices-f430a6ba8c69\n",
    "5. Introduction to Jupyter templates nbextension: https://towardsdatascience.com/stop-copy-pasting-notebooks-embrace-jupyter-templates-6bd7b6c00b94  \n",
    "    5.1. Table of Contents (Toc2) readthedocs: https://jupyter-contrib-nbextensions.readthedocs.io/en/latest/nbextensions/toc2/README.html  \n",
    "    5.2. Steps to install toc2: https://stackoverflow.com/questions/23435723/installing-ipython-notebook-table-of-contents\n",
    "6. Rule A, Birmingham A, Zuniga C, Altintas I, Huang SC, et al. (2019) Ten simple rules for writing and sharing computational analyses in Jupyter Notebooks. PLOS Computational Biology 15(7): e1007007. https://doi.org/10.1371/journal.pcbi.1007007. Supplementary materials: example notebooks (https://github.com/jupyter-guide/ten-rules-jupyter) and tutorial (https://github.com/ISMB-ECCB-2019-Tutorial-AM4/reproducible-computational-workflows)\n",
    "7. Languages supported by Jupyter kernels: https://github.com/jupyter/jupyter/wiki/Jupyter-kernels\n",
    "8. EarthCube notebooks presented at EC Annual Meeting 2020: https://www.earthcube.org/notebooks\n",
    "9. Manage your Python Virtual Environment with Conda: https://towardsdatascience.com/manage-your-python-virtual-environment-with-conda-a0d2934d5195\n",
    "10. Venv - Creation of Virtual Environments: https://docs.python.org/3/library/venv.html"
   ]
  }
 ],
 "metadata": {
  "kernelspec": {
   "display_name": "Python 3 (ipykernel)",
   "language": "python",
   "name": "python3"
  },
  "language_info": {
   "codemirror_mode": {
    "name": "ipython",
    "version": 3
   },
   "file_extension": ".py",
   "mimetype": "text/x-python",
   "name": "python",
   "nbconvert_exporter": "python",
   "pygments_lexer": "ipython3",
   "version": "3.9.7"
  }
 },
 "nbformat": 4,
 "nbformat_minor": 5
}
