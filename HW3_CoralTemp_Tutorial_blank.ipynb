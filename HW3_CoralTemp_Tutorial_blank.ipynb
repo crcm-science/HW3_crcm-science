{
 "cells": [
  {
   "cell_type": "markdown",
   "id": "2646a34e-a634-47ac-9fe7-73bf40ece8ae",
   "metadata": {},
   "source": [
    "# NOAA Coral Reef Watch's CoralTemp: Dataset Overview and Use Case Example\n",
    "## CRCM-Science - Using the CoralTemp Dataset for Climate Resilient Coral Modeling (CRCM)\n",
    "## EDS 220, Fall 2021\n",
    "\n",
    "The following Jupyter notebook demonstrates key features and use case examples for the NOAA Coral Reef Watch CoralTemp dataset."
   ]
  },
  {
   "cell_type": "markdown",
   "id": "dc47afd0-adb0-4d5b-8903-992b7904322e",
   "metadata": {},
   "source": [
    "## Authors\n",
    "\n",
    "- Alex Clippinger, Bren School of Environmental Science & Management, (alexclippinger@ucsb.edu) \n",
    "- Charles Hendrickson, Bren School of Environmental Science & Management, (c_d_h@ucsb.edu)\n",
    "- Connor Flynn, Bren School of Environmental Science & Management, (connorflynn@ucsb.edu)"
   ]
  },
  {
   "cell_type": "markdown",
   "id": "1e8c2013-fef1-44ac-bb00-3215807cacac",
   "metadata": {
    "tags": []
   },
   "source": [
    "## Table of Contents\n",
    "\n",
    "[1. Purpose](#purpose)\n",
    "\n",
    "[2. Dataset Description](#overview)\n",
    "\n",
    "[3. Metadata](#display)\n",
    "\n",
    "[4. Data I/O](#io)\n",
    "\n",
    "[5. Basic Visualization](#viz)\n",
    "\n",
    "[6. Use Case Examples](#usecases)\n",
    "\n",
    "[7. Binder Environment](#binder)\n",
    "\n",
    "[8. References](#references)"
   ]
  },
  {
   "cell_type": "markdown",
   "id": "ba52c6e3-3584-48be-b500-21578b61bd72",
   "metadata": {},
   "source": [
    "<a id='purpose'></a> \n",
    "## Purpose"
   ]
  },
  {
   "cell_type": "markdown",
   "id": "25d2e353-9a0f-4e68-a897-1899a9f90f9e",
   "metadata": {},
   "source": [
    "This notebook was created to provide an introduction to the NOAA Coral Reef Watch CoralTemp data products, specifically the 5-km sea surface temperature dataset, although we will also introduce the sea surface temperature anomaly and degree heating week datasets. We will demonstrate the capability of these data products to analyze heat resilient coral in the face of warming sea surface temperatures."
   ]
  },
  {
   "cell_type": "markdown",
   "id": "d429260a-2c30-44da-a5af-e100a440056a",
   "metadata": {},
   "source": [
    "<a id='overview'></a> \n",
    "## Dataset Description"
   ]
  },
  {
   "cell_type": "markdown",
   "id": "30571544-7235-4841-b216-b3b4445ecd41",
   "metadata": {},
   "source": [
    "#### Creators of the dataset\n",
    "\n",
    "The CoralTemp data products are maintained by NOAA's Coral Reef Watch Organization (CRW). CRW was established in 2000 to address the need to enhance coral reef resilience. Since then, the organization has accurately monitored and predicted all major bleaching events since 1997. The CoralTemp dataset is the foundation of Coral Reef Watch's ability to fulfill their mission of protecting coral reefs."
   ]
  },
  {
   "cell_type": "markdown",
   "id": "767c4653-efdf-453a-8203-9ce83000141a",
   "metadata": {},
   "source": [
    "#### Major characteristics\n",
    "\n",
    "CoralTemp is a global sea surface temperature data product used primarily for coral bleaching monitoring. The dataset contains many data products based on 5 geostationary and 3 polar-orbiting satellites. These products include the main sea surface temperature data set (which is the basis for the other products), degree heating week (DHW), bleaching alert areas, coral bleaching hotspots, sea ice fraction, and sea surface temperature anomaly.\n",
    "\n",
    "- Description of data products referenced further:\n",
    "  - SST: Nighttime sea surface temperature (celcius), calibrated to 0.2 meters depth, across the entire globe.\n",
    "  - SST Anomaly: A comparison of current sea surface temperature with the long term mean SST at a given location during a certain period of time\n",
    "    - The temperature anomalies range from -5.0 to +5.0 degrees Celsius (°C). Data and images are updated daily\n",
    "  - Degree Heating Week - The DHW shows how much heat stress (SST above the bleaching threshold) has accumulated in an area.\n",
    "    - The units for DHW are \"degree Celsius-weeks\" (or °C-weeks), combining the intensity and duration of the oceanic heat stress into a single number.\n",
    "  - Bleaching Alert Area\n",
    "    - 5 levels (no stress, bleaching warning, bleaching watch, alert level 1, alert level 2)\n",
    "    - Produced based on DHW\n",
    "    \n",
    "We will focus on the primary sea surface temperature (SST) dataset for the remainder of the notebook. The key details of the SST dataset include: \n",
    "- Spatial Resolution: 5km gridded cells.\n",
    "- Spatial Coverage: The dataset has a complete spatial coverage of the ocean. \n",
    "- Temporal Resolution: 1985-04-01 to present. "
   ]
  },
  {
   "cell_type": "markdown",
   "id": "96be1ce0-3889-457b-860f-7c143f2c6c21",
   "metadata": {},
   "source": [
    "#### File format(s)\n",
    "\n",
    "Data can be downloaded as CSV, netCDF, geotiff, and other common file formats with some unique limitations. For example, geotiff downloads can only contain a single day of data. CSV downloads on the other hand can contain multiple days of observations in a single file. The data is produced daily in near real-time, with an approximately 60 hour delay in availability from the present.\n",
    "\n",
    "A detailed list of output formats can be found in the data product documentation here: https://coastwatch.pfeg.noaa.gov/erddap/griddap/documentation.html"
   ]
  },
  {
   "cell_type": "markdown",
   "id": "e0a72757-da5b-4e1a-8eeb-18b9b62232e0",
   "metadata": {},
   "source": [
    "#### Source/Archive\n",
    "\n",
    "The data can be accessed via a REST API data access form. Here is the URL for manually querying the data: https://coastwatch.pfeg.noaa.gov/erddap/griddap/NOAA_DHW.html\n",
    "\n",
    "This data source is maintained by the creator of the dataset, NOAA, indicating that this should be a reliable source of data for the foreseeable future."
   ]
  },
  {
   "cell_type": "markdown",
   "id": "3ed98886-fd82-46d0-9a33-f21dee373a5f",
   "metadata": {},
   "source": [
    "#### Known issues with data quality\n",
    "\n",
    "NOAA satellite data sets have specified processing levels ranging from 0 to 4, with 0 indicating unprocessed telemetry data as received and 4 indicating data products that are model output or results from analysis derived from multiple measurements. The CoralTemp SST product is derived from three level-4 satellite datasets:\n",
    "  - NOAA/NESDIS operational near-real-time daily global 5-km geostationary-polar-orbiting (geo-polar) blended night-only SST analysis\n",
    "  - NOAA/NESDIS 2002-2016 reprocessed daily global 5-km geo-polar blended night-only SST analysis\n",
    "  - United Kingdom Met Office 1985-2002 daily global 5-km night-only SST reanalysis of Operational SST and Sea Ice Analysis (OSTIA)\n",
    "\n",
    "Thus, the data is gridded and gap-filled according to NOAA’s highest processing level. Therefore, there are no significant gaps in data, spatially or temporally, and all outliers and spikes are likely reflective of real world occurrences.\n",
    "\n",
    "Source: https://coralreefwatch.noaa.gov/product/5km/tutorial/crw05a_sst_product.php\n",
    "\n",
    "However, there are limitations associated with using the dataset, which has a 5-km grid resolution and once-daily measurements. Although sufficient for numerous useful applications, this spatial scale may not be high enough for certain applications, such as drawing conclusions on variation in sea surface temperature within a small area such as a coral reef. Ocean sea surface temperature varies continuously across the surface, not in gridded cells, which could introduce an inherent bias in our analysis. In addition, ocean temperature varies consistently over time, while the dataset only contains a single nighttime reading per day."
   ]
  },
  {
   "cell_type": "markdown",
   "id": "c0dcb346-b61a-4184-a984-4d4dc9340c51",
   "metadata": {},
   "source": [
    "<a id='display'></a> \n",
    "## Metadata"
   ]
  },
  {
   "cell_type": "markdown",
   "id": "da04fedf-2961-4b56-ab4f-f3ee53e63a97",
   "metadata": {},
   "source": [
    "A complete list of variables and attributes, as well as their descriptions, are provided on the Data Access Form used to download CoralTemp data products. Additionally, information like the publisher name, email, and institution is provided, as well as an overall summary of the dataset, specific products, and output file formats. Information about key variables such as time, latitude, longitude, and their associated mask is extensively documented in the metadata. \n",
    "\n",
    "For example, \n",
    "\n",
    "  - Data Access Form/output format documentation: https://coastwatch.pfeg.noaa.gov/erddap/griddap/documentation.html\n",
    "  - Detailed Metadata on all CoralTemp data products: https://coastwatch.pfeg.noaa.gov/erddap/info/NOAA_DHW/index.html"
   ]
  },
  {
   "cell_type": "markdown",
   "id": "02d5cb75-cb54-4708-8b88-459cae2ca17d",
   "metadata": {},
   "source": [
    "<a id='io'></a> \n",
    "## Dataset Input/Output "
   ]
  },
  {
   "cell_type": "markdown",
   "id": "8197ac3c-39b4-4696-8162-44430c9bcc02",
   "metadata": {},
   "source": [
    "The following code chunks demonstrate how to read in CoralTemp data for analysis using the REST API query."
   ]
  },
  {
   "cell_type": "markdown",
   "id": "f7f0013f-5765-4fcc-a8d9-5d293b7665ab",
   "metadata": {},
   "source": [
    "#### Import all necessary packages"
   ]
  },
  {
   "cell_type": "code",
   "execution_count": null,
   "id": "f43959aa-52a4-4c12-811d-ae7efbcee395",
   "metadata": {},
   "outputs": [],
   "source": [
    "import pandas as pd\n",
    "import matplotlib.pyplot as plt"
   ]
  },
  {
   "cell_type": "markdown",
   "id": "4b08bef7-3ce5-445a-b2d8-e583f78a72d7",
   "metadata": {},
   "source": [
    "#### Set parameters"
   ]
  },
  {
   "cell_type": "code",
   "execution_count": null,
   "id": "6df25088-d576-4345-9951-ad391604ae94",
   "metadata": {},
   "outputs": [],
   "source": [
    "# Set parameters used in data access query\n",
    "start_date = '2019-01-01T12:00:00Z'\n",
    "end_date = '2019-12-31T12:00:00Z'\n",
    "product_code = 'SST'\n",
    "output_format = 'csv'\n",
    "\n",
    "# Bounding box for our area of interest - Honoli'i, HI\n",
    "ymax = '19.800'\n",
    "ymin = '19.750'\n",
    "xmin = '-155.099'\n",
    "xmax = '-155.050'"
   ]
  },
  {
   "cell_type": "markdown",
   "id": "e7464e54-9897-4833-9d49-348e36a0b419",
   "metadata": {},
   "source": [
    "#### Load CoralTemp data"
   ]
  },
  {
   "cell_type": "code",
   "execution_count": null,
   "id": "d56c0a80-b195-4533-b1c9-4c0a0e1c4ff5",
   "metadata": {},
   "outputs": [],
   "source": [
    "# Query to pull data from Coral Reef Watch data products\n",
    "base_url = 'https://coastwatch.pfeg.noaa.gov/erddap/griddap/NOAA_DHW.'\n",
    "query = base_url+output_format+'?CRW_'+product_code+'%5B('+start_date+'):1:('+end_date+')%5D%5B('+ymax+'):1:('+ymin+')%5D%5B('+xmin+'):1:('+xmax+')%5D'\n",
    "\n",
    "# Read csv\n",
    "df = pd.read_csv(query, \n",
    "                 names = [\"date\", \"latitude\", \"longitude\", \"sst_c\"], \n",
    "                 skiprows = 2)\n",
    "\n",
    "# Remove timestamp and set date as index\n",
    "df[\"date\"] = pd.to_datetime(df[\"date\"])\n",
    "\n",
    "# Show preview of dataset\n",
    "df.head()"
   ]
  },
  {
   "cell_type": "markdown",
   "id": "846dd3fe-3cd3-4d63-8acc-c9071956f24c",
   "metadata": {},
   "source": [
    "<a id='viz'></a> \n",
    "## Basic Visualization"
   ]
  },
  {
   "cell_type": "code",
   "execution_count": null,
   "id": "1e3862aa-01a3-4463-beca-2dd808177fd4",
   "metadata": {},
   "outputs": [],
   "source": [
    "# Create basic time-series\n",
    "fig, ax = plt.subplots(figsize = (10, 10))\n",
    "ax.plot(df[\"date\"],\n",
    "        df[\"sst_c\"])\n",
    "ax.set(xlabel = \"Date\",\n",
    "       ylabel = \"SST (celsius)\",\n",
    "       title = \"Daily SST\")\n",
    "plt.setp(ax.get_xticklabels(), rotation = 45)\n",
    "plt.show()"
   ]
  },
  {
   "cell_type": "markdown",
   "id": "62354cdf-609f-487d-be51-9ea306997a69",
   "metadata": {},
   "source": [
    "<a id='usecases'></a> \n",
    "## Use Case Example - Climate Resilient Coral Modeling"
   ]
  },
  {
   "cell_type": "markdown",
   "id": "77e06922-61db-4a97-8b3b-764e75fc177c",
   "metadata": {},
   "source": [
    "#### Summary"
   ]
  },
  {
   "cell_type": "markdown",
   "id": "5524e8ed-14db-4331-a0b4-7168b29c8132",
   "metadata": {},
   "source": [
    "Our team will demonstrate the ability to use the CoralTemp dataset to analyze heat resilient coral and the effects of rising sea surface temperatures on coral bleaching. Specifically, we will focus on a gridded cell containing a reef known to have heat tolerant coral, located in Honoli'i (near Hilo, Hawai'i). Coral can be heat tolerant for a variety of reasons. This analysis relies on the hypothesis that the coral of Honolii reef have the ability to adapt to heat by hosting a symbiont algae that increases their bleaching threshold by approximately 1.5 degree celsius compared to non heat tolerant coral.\n",
    "\n",
    "As previously mentioned, the CoralTemp suite of data products are oriented towards coral reef monitoring. Primarily, the datasets are used to study and predict bleaching events and hot spots. Thus, our analysis extends on this applicability to forecasting the impact of sea surface warming on coral reefs. The target audience for this example are Coral Reef Managers and individuals interested in reef resilience. This concept can be applied to predict future reef heat tolerance in any location and guide outplanting operations to maintain reefs with longer-term heat tolerance.\n",
    "\n",
    "Here is where the coral reef is located. We will be using SST data for the gridded cell containing this area:\n",
    "\n",
    "![](./images/reef_location.png)\n",
    "\n",
    "The steps of the analysis include:\n",
    "\n",
    "**1. Load in the entire CoralTemp SST dataset (1985-Present)**\n",
    "\n",
    "**2. Use the existing dataset to forecast SST to 2030**\n",
    "\n",
    "**3. Calculate and visualize degree heating week**"
   ]
  },
  {
   "cell_type": "markdown",
   "id": "09899844-95b4-4f53-ae01-fd2cf58a8bea",
   "metadata": {},
   "source": [
    "#### Walkthrough"
   ]
  },
  {
   "cell_type": "code",
   "execution_count": null,
   "id": "ae6d9b5c-86c3-4984-b86b-c62bf06521d0",
   "metadata": {},
   "outputs": [],
   "source": [
    "import pandas as pd\n",
    "import matplotlib.pyplot as plt\n",
    "import numpy as np\n",
    "import os\n",
    "import glob\n",
    "import datetime"
   ]
  },
  {
   "cell_type": "markdown",
   "id": "2d8fbdb2-28fc-4af3-bee8-6fd43fda74f2",
   "metadata": {},
   "source": [
    "**1. Load in the entire CoralTemp SST dataset (1985-Present)**"
   ]
  },
  {
   "cell_type": "code",
   "execution_count": null,
   "id": "882c8d62-b823-44eb-89c0-037ce9f68c82",
   "metadata": {},
   "outputs": [],
   "source": [
    "# Create empty dataframe\n",
    "sst_df = pd.DataFrame()\n",
    "\n",
    "### ENTER CODE HERE ###\n",
    "# Append all data into single dataframe\n",
    "\n",
    "# Change date column from str to datetime and make it the index\n",
    "sst_df['date'] = pd.to_datetime(sst_df['date'])\n",
    "sst_df = sst_df.set_index(['date'])\n",
    "\n",
    "sst_df.tail()"
   ]
  },
  {
   "cell_type": "markdown",
   "id": "9ad3238e-b87e-4c8e-a389-f483dc7cc5de",
   "metadata": {},
   "source": [
    "**2. Use the existing dataset to forecast SST to 2030**"
   ]
  },
  {
   "cell_type": "code",
   "execution_count": null,
   "id": "31d519f6-185a-4953-8f12-c97963f9047c",
   "metadata": {},
   "outputs": [],
   "source": [
    "# Create \"training\" dataset - in this simple example, we are just using the year prior\n",
    "sst_df_training = sst_df['2015-01-01 12:00:00+00:00':'2015-12-31 12:00:00+00:00']\n",
    "\n",
    "# Create empty dataframe\n",
    "sst_df_forecast = pd.DataFrame(columns = ['date', 'sst_c'])\n",
    "\n",
    "# Add date range to date column\n",
    "sst_df_forecast['date'] = pd.date_range(start = '2021-11-10 12:00:00+00:00', end = '2030-11-09 12:00:00+00:00')\n",
    "\n",
    "# change date column from str to datetime and make it the index\n",
    "sst_df_forecast['date'] = pd.to_datetime(sst_df_forecast['date'])\n",
    "sst_df_forecast = sst_df_forecast.set_index(['date'])\n",
    "\n",
    "### ENTER CODE HERE ###\n",
    "# remove leap days\n",
    "\n",
    "\n",
    "# Get list of years to be forecast\n",
    "\n",
    "\n",
    "# Iterate through years and apply basic yearly increase in SST\n",
    "for year in forecasted_years:\n",
    "    year_index = np.where(forecasted_years == year)[0][0]\n",
    "    yearly_sst_increase = 0.2\n",
    "    sst_df_forecast[str(year)+'-11-10 12:00:00+00:00':str(year+1)+'-11-09 12:00:00+00:00'] = sst_df_training + (year_index*yearly_sst_increase)\n",
    "    \n",
    "sst_df_forecast.head()"
   ]
  },
  {
   "cell_type": "code",
   "execution_count": null,
   "id": "651a9f8c-d6c3-4914-a1f9-ec4d94c874fe",
   "metadata": {},
   "outputs": [],
   "source": [
    "## Create time-series of forecasted SST values\n",
    "fig, ax = plt.subplots(figsize = (10, 10))\n",
    "ax.plot(sst_df.index,\n",
    "        sst_df[\"sst_c\"],\n",
    "        label = \"Observed\")\n",
    "\n",
    "ax.plot(sst_df_forecast.index,\n",
    "        sst_df_forecast[\"sst_c\"],\n",
    "        label = \"Forecasted\")\n",
    "\n",
    "ax.legend()\n",
    "\n",
    "ax.set(xlabel = \"Date\",\n",
    "       ylabel = \"SST (celsius)\",\n",
    "       title = \"Daily SST\")\n",
    "\n",
    "ax.set_xlim(left = datetime.date(1986, 1, 1), right = datetime.date(2030, 11, 9))\n",
    "\n",
    "plt.setp(ax.get_xticklabels(), rotation = 45)\n",
    "plt.show()"
   ]
  },
  {
   "cell_type": "markdown",
   "id": "1eff26af-4b8c-4b8c-aeba-0abb98c33ee6",
   "metadata": {},
   "source": [
    "**3. Calculate bleaching thresholds and visualize degree heating week**"
   ]
  },
  {
   "cell_type": "markdown",
   "id": "9d27c086-6888-45dd-b6ba-c1c231240474",
   "metadata": {},
   "source": [
    "First, we need to calculate our bleaching thresholds. This threshold was identified by scientists in the 1980s, who found that corals experience stress if water reaches 1°C warmer than the highest expected annual temperature (Glynn and D'Croz, 1990). Thus, the **bleaching threshold** is defined as **1°C warmer than the max monthly mean temperature**. To calculate the long term mean SST for any location, a \"linear regression\", \"recentering\" of the data, and linear interpolation is required (see here for more info: https://coralreefwatch.noaa.gov/product/5km/tutorial/crw07a_ssta_product.php).\n",
    "\n",
    "Thankfully, the long-term means can be derived from the SST and SST anomaly data product. The SST anomaly is the difference of SST compared to the daily long term mean SST. In the code below, **we use SST and SST anomaly data for 2019 to find the long term means**, which allow us to calculate the bleaching threshold for our specific reef location"
   ]
  },
  {
   "cell_type": "code",
   "execution_count": null,
   "id": "aa19dca7-8ec7-42f5-85e0-51dc5844598a",
   "metadata": {},
   "outputs": [],
   "source": [
    "# Load SST data for 2019\n",
    "df = sst_df['2019-01-01T12:00:00Z':'2019-12-31T12:00:00Z']\n",
    "df = df.reset_index()\n",
    "\n",
    "# Set parameters used in REST API query for SST anomaly data\n",
    "start_date = '2019-01-01T12:00:00Z'\n",
    "end_date = '2019-12-31T12:00:00Z'\n",
    "product_code = 'SSTANOMALY'\n",
    "output_format = 'csv'\n",
    "\n",
    "ymax = '19.800'\n",
    "ymin = '19.750'\n",
    "xmin = '-155.099'\n",
    "xmax = '-155.050'\n",
    "\n",
    "# Query to pull SST Anomaly data from Coral Reef Watch data products\n",
    "query = r'https://coastwatch.pfeg.noaa.gov/erddap/griddap/NOAA_DHW.'+output_format+'?CRW_'+product_code+'%5B('+start_date+'):1:('+end_date+')%5D%5B('+ymax+'):1:('+ymin+')%5D%5B('+xmin+'):1:('+xmax+')%5D'\n",
    "\n",
    "# Read csv\n",
    "df_anomaly = pd.read_csv(query, \n",
    "                         usecols = [0,3],\n",
    "                         names = [\"date\", \"sst_anomaly\"], \n",
    "                         skiprows = 2)\n",
    "\n",
    "# Remove timestamp\n",
    "df_anomaly[\"date\"] = pd.to_datetime(df_anomaly[\"date\"])\n",
    "\n",
    "### ENTER CODE HERE ###\n",
    "# Calculate long-term daily mean based on anomaly dataset\n",
    "\n",
    "\n",
    "# Find average monthly mean\n",
    "df_month = df_anomaly.groupby(df_anomaly[\"date\"].dt.strftime('%B'))['monthly_mean_sst'].mean().sort_values()\n",
    "\n",
    "# Set bleaching thresholds according to max monthly mean\n",
    "\n",
    "\n",
    "print(\"Normal bleaching threshold: \" + str(round(bleaching_threshold, 2)))\n",
    "print(\"Heat tolerant bleaching threshold: \" + str(round(bleaching_threshold_ht, 2)))"
   ]
  },
  {
   "cell_type": "markdown",
   "id": "78c1c96d-8d73-4a81-a653-24a710040c93",
   "metadata": {},
   "source": [
    "Next, we calculate the **degree heating week** (DHW). Here is NOAA's definition of this metric from the metadata: \"The DHW value at any particular location at any particular time is the summation of the product of HotSpot values which are at least 1 deg C above the bleaching threshold SST and their durations in weeks over the most recent 12-week period.\""
   ]
  },
  {
   "cell_type": "code",
   "execution_count": null,
   "id": "b4b20b4c-9f7b-4cdd-9f6f-33328d1aace3",
   "metadata": {},
   "outputs": [],
   "source": [
    "## Calculate degree heating week\n",
    "\n",
    "# Combine observed and forecasted data\n",
    "heat_stress_df = pd.concat([sst_df, sst_df_forecast], axis = 0)\n",
    "\n",
    "# Create columns showing daily heat stress\n",
    "heat_stress_df[\"above_threshold\"] = np.where(heat_stress_df['sst_c'] - bleaching_threshold <= 0, 0, heat_stress_df['sst_c'] - bleaching_threshold)\n",
    "heat_stress_df[\"above_threshold_ht\"] = np.where(heat_stress_df['sst_c'] - bleaching_threshold_ht <= 0, 0, heat_stress_df['sst_c'] - bleaching_threshold_ht)\n",
    "\n",
    "### ENTER CODE HERE ###\n",
    "# Calculate degree heating week (cumulative heat stress)\n",
    "\n"
   ]
  },
  {
   "cell_type": "markdown",
   "id": "773be5bf-d0a8-4442-9305-90cc5cfba5b6",
   "metadata": {},
   "source": [
    "Lastly, we can visualize SST and Degree Heating Week for our forecasted years."
   ]
  },
  {
   "cell_type": "code",
   "execution_count": null,
   "id": "2b192b5d-395d-4c10-8325-45dea2eda43b",
   "metadata": {},
   "outputs": [],
   "source": [
    "## SOURCE: https://stackoverflow.com/questions/9103166/multiple-axis-in-matplotlib-with-different-scales\n",
    "\n",
    "fig, ax = plt.subplots(figsize=(15,10))\n",
    "    \n",
    "dhw = ax.twinx()\n",
    "    \n",
    "ax.set_xlim(left = datetime.date(2010, 1, 1), right = datetime.date(2030, 11, 9))\n",
    "ax.set_ylim(18, 32)\n",
    "dhw.set_ylim(0, 25)\n",
    "    \n",
    "ax.set(xlabel = \"Date\",\n",
    "       ylabel = \"SST (celsius)\",\n",
    "       title = \"SST and DHW\")\n",
    "dhw.set_ylabel(\"DHW (degree C-weeks)\")\n",
    "\n",
    "ax.set(xlabel = \"Date\",\n",
    "       ylabel = \"SST (celsius)\",\n",
    "       title = \"Daily SST\")\n",
    "\n",
    "sst_plot, = ax.plot(heat_stress_df.index, \n",
    "                    heat_stress_df['sst_c'], \n",
    "                    color = plt.cm.viridis(0), \n",
    "                    label = \"SST (C)\")\n",
    "\n",
    "dhw_plot, = dhw.plot(heat_stress_df.index, \n",
    "                     heat_stress_df['dhw'], \n",
    "                     color = plt.cm.viridis(0.5), \n",
    "                     label = \"DHW (degree C-weeks)\")\n",
    "\n",
    "dhw_ht_plot, = dhw.plot(heat_stress_df.index, \n",
    "                        heat_stress_df['dhw_ht'], \n",
    "                        color = plt.cm.viridis(0.2), \n",
    "                        label = \"Heat Tolerant DHW (degree C-weeks)\")\n",
    "\n",
    "bleaching = ax.axhline(y = bleaching_threshold, \n",
    "                       color = \"red\", \n",
    "                       linestyle = '--',\n",
    "                       label = \"Bleaching Threshold\")\n",
    "\n",
    "bleaching_ht = ax.axhline(y = bleaching_threshold_ht, \n",
    "                          color = \"blue\", \n",
    "                          linestyle = '-.',\n",
    "                          label = \"Bleaching Threshold - Heat Tolerant\")\n",
    "\n",
    "forecast = plt.axvspan(datetime.date(2021, 11, 9), datetime.date(2030, 11, 9), facecolor='b', alpha=0.1, label = \"Forecasted SST\")\n",
    "\n",
    "ax.legend(handles = [bleaching, bleaching_ht, forecast], loc='upper left')\n",
    "\n",
    "ax.yaxis.label.set_color(sst_plot.get_color())\n",
    "dhw.yaxis.label.set_color(dhw_plot.get_color())\n",
    "\n",
    "fig.tight_layout()\n",
    "\n",
    "plt.savefig(\"sst_dhw.pdf\")"
   ]
  },
  {
   "cell_type": "markdown",
   "id": "763f61ce-363b-4247-b77b-f1e833b61742",
   "metadata": {},
   "source": [
    "#### Discussion of results\n",
    "\n",
    "As we can see in the plot above, the increased heat tolerance of certain coral species drastically decreases their likelihood of bleaching and mortality.\n",
    "\n",
    "The most obvious extension of our results would be to improve our forecasting method to use an actual time-series forecasting model, such as Seasonal Autoregressive Integrated Moving Average (SARIMA) or Double-Seasonal Holt-Winters Forecasting. Clearly, applying a linear increase in sea surface temperature to a single year of data is not an accurate representation of future change. Local sea surface temperature year to year is impacted greatly by El Nino/La Nina events and other factors. This non-linear change in SST can be seen for our observed data from 1985-Present.\n",
    "\n",
    "Further, this analysis could be extended to look at other reefs with known major bleaching events (for example, the 2016-2017 bleaching events impacting the Great Barrier Reef) and visualizing the potential increased tolerance and impact on heat tolerant coral species. "
   ]
  },
  {
   "cell_type": "markdown",
   "id": "9d07de0d-1e81-442a-a895-7b7fd7906385",
   "metadata": {},
   "source": [
    "<a id='binder'></a> \n",
    "## Binder Environment\n",
    "\n",
    "Our Binder environment can be found at the following link: https://mybinder.org/v2/gh/crcm-science/HW3_crcm-science/HEAD"
   ]
  },
  {
   "cell_type": "markdown",
   "id": "c62c774b-8a7c-4f47-9c07-7f9823c48473",
   "metadata": {},
   "source": [
    "<a id='references'></a> \n",
    "## References\n",
    "\n",
    "1. “NOAA Coral Reef Watch Tutorial.” Accessed November 19, 2021. https://coralreefwatch.noaa.gov/product/5km/tutorial/welcome.php.\n",
    "\n",
    "2. Coles, Steve L., Keisha D. Bahr, Ku’ulei S. Rodgers, Stacie L. May, Ashley E. McGowan, Anita Tsang, Josh Bumgarner, and Ji Hoon Han. “Evidence of Acclimatization or Adaptation in Hawaiian Corals to Higher Ocean Temperatures.” PeerJ 6 (August 7, 2018): e5347. https://doi.org/10.7717/peerj.5347.\n",
    "\n"
   ]
  }
 ],
 "metadata": {
  "kernelspec": {
   "display_name": "Python 3 (ipykernel)",
   "language": "python",
   "name": "python3"
  },
  "language_info": {
   "codemirror_mode": {
    "name": "ipython",
    "version": 3
   },
   "file_extension": ".py",
   "mimetype": "text/x-python",
   "name": "python",
   "nbconvert_exporter": "python",
   "pygments_lexer": "ipython3",
   "version": "3.9.7"
  }
 },
 "nbformat": 4,
 "nbformat_minor": 5
}
